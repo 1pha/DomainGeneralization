{
 "cells": [
  {
   "cell_type": "code",
   "execution_count": 8,
   "metadata": {},
   "outputs": [],
   "source": [
    "from pathlib import Path\n",
    "from sklearn.manifold import TSNE\n",
    "from glob import glob\n",
    "from tqdm import tqdm\n",
    "import matplotlib.pyplot as plt\n",
    "import seaborn as sns\n",
    "sns.set_theme()\n",
    "\n",
    "import torch\n",
    "\n",
    "from pytorch_adapt.utils.common_functions import batch_to_device\n",
    "\n",
    "from adapt.config import Arguments\n",
    "from adapt.trainer import Trainer"
   ]
  },
  {
   "cell_type": "code",
   "execution_count": 9,
   "metadata": {},
   "outputs": [
    {
     "name": "stderr",
     "output_type": "stream",
     "text": [
      "[12/05/2021 14:37:32] INFO - adapt.trainer: Load PyTorch-Adapt Dataset.\n",
      "[12/05/2021 14:37:32] INFO - adapt.trainer: Successfully loaded PyTorch-Adapt Dataset of source=Product and target=Clipart\n",
      "[12/05/2021 14:37:32] INFO - adapt.trainer: Setup model.\n",
      "[12/05/2021 14:37:33] INFO - timm.models.helpers: Loading pretrained weights from url (https://github.com/rwightman/pytorch-image-models/releases/download/v0.1-weights/mobilenetv3_100-35495452.pth)\n",
      "[12/05/2021 14:37:33] INFO - adapt.trainer: Successfully setup model.\n"
     ]
    }
   ],
   "source": [
    "domains = [\"Art\", \"Clipart\", \"Product\", \"Real World\"]\n",
    "args = Arguments()\n",
    "args.src_data = 2\n",
    "args.tgt_data = 1\n",
    "args.model_name_or_path = \"resmlp_12_distilled_224\"\n",
    "args.embed_dim = 1000\n",
    "args.dir_name = f\"{args.model_name_or_path}_src({domains[args.src_data]})_tgt({domains[args.tgt_data]})\"\n",
    "model_list = sorted(glob(f\"./outputs/{args.dir_name}/*\"))\n",
    "\n",
    "trainer = Trainer(args)"
   ]
  },
  {
   "cell_type": "code",
   "execution_count": 10,
   "metadata": {},
   "outputs": [
    {
     "name": "stdout",
     "output_type": "stream",
     "text": [
      "Using matplotlib backend: Qt5Agg\n"
     ]
    },
    {
     "name": "stderr",
     "output_type": "stream",
     "text": [
      "  0%|          | 0/4 [00:00<?, ?it/s]"
     ]
    },
    {
     "name": "stdout",
     "output_type": "stream",
     "text": [
      "G is successfully loaded\n",
      "C is successfully loaded\n",
      "D is successfully loaded\n"
     ]
    },
    {
     "name": "stderr",
     "output_type": "stream",
     "text": [
      "100%|██████████| 4/4 [00:02<00:00,  1.48it/s]\n",
      "100%|██████████| 4/4 [00:03<00:00,  1.31it/s]\n",
      "  0%|          | 0/4 [00:00<?, ?it/s]"
     ]
    },
    {
     "name": "stdout",
     "output_type": "stream",
     "text": [
      "G is successfully loaded\n",
      "C is successfully loaded\n",
      "D is successfully loaded\n"
     ]
    },
    {
     "name": "stderr",
     "output_type": "stream",
     "text": [
      "100%|██████████| 4/4 [00:02<00:00,  1.52it/s]\n",
      "100%|██████████| 4/4 [00:02<00:00,  1.57it/s]\n",
      "  0%|          | 0/4 [00:00<?, ?it/s]"
     ]
    },
    {
     "name": "stdout",
     "output_type": "stream",
     "text": [
      "G is successfully loaded\n",
      "C is successfully loaded\n",
      "D is successfully loaded\n"
     ]
    },
    {
     "name": "stderr",
     "output_type": "stream",
     "text": [
      "100%|██████████| 4/4 [00:02<00:00,  1.47it/s]\n",
      "100%|██████████| 4/4 [00:02<00:00,  1.52it/s]\n",
      "  0%|          | 0/4 [00:00<?, ?it/s]"
     ]
    },
    {
     "name": "stdout",
     "output_type": "stream",
     "text": [
      "G is successfully loaded\n",
      "C is successfully loaded\n",
      "D is successfully loaded\n"
     ]
    },
    {
     "name": "stderr",
     "output_type": "stream",
     "text": [
      "100%|██████████| 4/4 [00:02<00:00,  1.53it/s]\n",
      "100%|██████████| 4/4 [00:02<00:00,  1.62it/s]\n",
      "  0%|          | 0/4 [00:00<?, ?it/s]"
     ]
    },
    {
     "name": "stdout",
     "output_type": "stream",
     "text": [
      "G is successfully loaded\n",
      "C is successfully loaded\n",
      "D is successfully loaded\n"
     ]
    },
    {
     "name": "stderr",
     "output_type": "stream",
     "text": [
      "100%|██████████| 4/4 [00:02<00:00,  1.54it/s]\n",
      "100%|██████████| 4/4 [00:02<00:00,  1.62it/s]\n",
      "  0%|          | 0/4 [00:00<?, ?it/s]"
     ]
    },
    {
     "name": "stdout",
     "output_type": "stream",
     "text": [
      "G is successfully loaded\n",
      "C is successfully loaded\n",
      "D is successfully loaded\n"
     ]
    },
    {
     "name": "stderr",
     "output_type": "stream",
     "text": [
      "100%|██████████| 4/4 [00:02<00:00,  1.55it/s]\n",
      "100%|██████████| 4/4 [00:02<00:00,  1.62it/s]\n",
      "  0%|          | 0/4 [00:00<?, ?it/s]"
     ]
    },
    {
     "name": "stdout",
     "output_type": "stream",
     "text": [
      "G is successfully loaded\n",
      "C is successfully loaded\n",
      "D is successfully loaded\n"
     ]
    },
    {
     "name": "stderr",
     "output_type": "stream",
     "text": [
      "100%|██████████| 4/4 [00:02<00:00,  1.56it/s]\n",
      "100%|██████████| 4/4 [00:02<00:00,  1.60it/s]\n",
      "  0%|          | 0/4 [00:00<?, ?it/s]"
     ]
    },
    {
     "name": "stdout",
     "output_type": "stream",
     "text": [
      "G is successfully loaded\n",
      "C is successfully loaded\n",
      "D is successfully loaded\n"
     ]
    },
    {
     "name": "stderr",
     "output_type": "stream",
     "text": [
      "100%|██████████| 4/4 [00:02<00:00,  1.48it/s]\n",
      "100%|██████████| 4/4 [00:02<00:00,  1.56it/s]\n",
      "  0%|          | 0/4 [00:00<?, ?it/s]"
     ]
    },
    {
     "name": "stdout",
     "output_type": "stream",
     "text": [
      "G is successfully loaded\n",
      "C is successfully loaded\n",
      "D is successfully loaded\n"
     ]
    },
    {
     "name": "stderr",
     "output_type": "stream",
     "text": [
      "100%|██████████| 4/4 [00:02<00:00,  1.53it/s]\n",
      "100%|██████████| 4/4 [00:02<00:00,  1.51it/s]\n",
      "  0%|          | 0/4 [00:00<?, ?it/s]"
     ]
    },
    {
     "name": "stdout",
     "output_type": "stream",
     "text": [
      "G is successfully loaded\n",
      "C is successfully loaded\n",
      "D is successfully loaded\n"
     ]
    },
    {
     "name": "stderr",
     "output_type": "stream",
     "text": [
      "100%|██████████| 4/4 [00:02<00:00,  1.54it/s]\n",
      "100%|██████████| 4/4 [00:02<00:00,  1.60it/s]\n",
      "  0%|          | 0/4 [00:00<?, ?it/s]"
     ]
    },
    {
     "name": "stdout",
     "output_type": "stream",
     "text": [
      "G is successfully loaded\n",
      "C is successfully loaded\n",
      "D is successfully loaded\n"
     ]
    },
    {
     "name": "stderr",
     "output_type": "stream",
     "text": [
      "100%|██████████| 4/4 [00:02<00:00,  1.39it/s]\n",
      "100%|██████████| 4/4 [00:02<00:00,  1.52it/s]\n",
      "  0%|          | 0/4 [00:00<?, ?it/s]"
     ]
    },
    {
     "name": "stdout",
     "output_type": "stream",
     "text": [
      "G is successfully loaded\n",
      "C is successfully loaded\n",
      "D is successfully loaded\n"
     ]
    },
    {
     "name": "stderr",
     "output_type": "stream",
     "text": [
      "100%|██████████| 4/4 [00:02<00:00,  1.46it/s]\n",
      "100%|██████████| 4/4 [00:02<00:00,  1.59it/s]\n",
      "  0%|          | 0/4 [00:00<?, ?it/s]"
     ]
    },
    {
     "name": "stdout",
     "output_type": "stream",
     "text": [
      "G is successfully loaded\n",
      "C is successfully loaded\n",
      "D is successfully loaded\n"
     ]
    },
    {
     "name": "stderr",
     "output_type": "stream",
     "text": [
      "100%|██████████| 4/4 [00:02<00:00,  1.51it/s]\n",
      "100%|██████████| 4/4 [00:02<00:00,  1.59it/s]\n",
      "  0%|          | 0/4 [00:00<?, ?it/s]"
     ]
    },
    {
     "name": "stdout",
     "output_type": "stream",
     "text": [
      "G is successfully loaded\n",
      "C is successfully loaded\n",
      "D is successfully loaded\n"
     ]
    },
    {
     "name": "stderr",
     "output_type": "stream",
     "text": [
      "100%|██████████| 4/4 [00:02<00:00,  1.50it/s]\n",
      "100%|██████████| 4/4 [00:02<00:00,  1.57it/s]\n",
      "  0%|          | 0/4 [00:00<?, ?it/s]"
     ]
    },
    {
     "name": "stdout",
     "output_type": "stream",
     "text": [
      "G is successfully loaded\n",
      "C is successfully loaded\n",
      "D is successfully loaded\n"
     ]
    },
    {
     "name": "stderr",
     "output_type": "stream",
     "text": [
      "100%|██████████| 4/4 [00:02<00:00,  1.48it/s]\n",
      "100%|██████████| 4/4 [00:02<00:00,  1.45it/s]\n",
      "  0%|          | 0/4 [00:00<?, ?it/s]"
     ]
    },
    {
     "name": "stdout",
     "output_type": "stream",
     "text": [
      "G is successfully loaded\n",
      "C is successfully loaded\n",
      "D is successfully loaded\n"
     ]
    },
    {
     "name": "stderr",
     "output_type": "stream",
     "text": [
      "100%|██████████| 4/4 [00:02<00:00,  1.54it/s]\n",
      "100%|██████████| 4/4 [00:02<00:00,  1.60it/s]\n",
      "  0%|          | 0/4 [00:00<?, ?it/s]"
     ]
    },
    {
     "name": "stdout",
     "output_type": "stream",
     "text": [
      "G is successfully loaded\n",
      "C is successfully loaded\n",
      "D is successfully loaded\n"
     ]
    },
    {
     "name": "stderr",
     "output_type": "stream",
     "text": [
      "100%|██████████| 4/4 [00:02<00:00,  1.47it/s]\n",
      "100%|██████████| 4/4 [00:02<00:00,  1.53it/s]\n",
      "  0%|          | 0/4 [00:00<?, ?it/s]"
     ]
    },
    {
     "name": "stdout",
     "output_type": "stream",
     "text": [
      "G is successfully loaded\n",
      "C is successfully loaded\n",
      "D is successfully loaded\n"
     ]
    },
    {
     "name": "stderr",
     "output_type": "stream",
     "text": [
      "100%|██████████| 4/4 [00:02<00:00,  1.47it/s]\n",
      "100%|██████████| 4/4 [00:02<00:00,  1.54it/s]\n",
      "  0%|          | 0/4 [00:00<?, ?it/s]"
     ]
    },
    {
     "name": "stdout",
     "output_type": "stream",
     "text": [
      "G is successfully loaded\n",
      "C is successfully loaded\n",
      "D is successfully loaded\n"
     ]
    },
    {
     "name": "stderr",
     "output_type": "stream",
     "text": [
      "100%|██████████| 4/4 [00:02<00:00,  1.53it/s]\n",
      "100%|██████████| 4/4 [00:02<00:00,  1.58it/s]\n",
      "  0%|          | 0/4 [00:00<?, ?it/s]"
     ]
    },
    {
     "name": "stdout",
     "output_type": "stream",
     "text": [
      "G is successfully loaded\n",
      "C is successfully loaded\n",
      "D is successfully loaded\n"
     ]
    },
    {
     "name": "stderr",
     "output_type": "stream",
     "text": [
      "100%|██████████| 4/4 [00:02<00:00,  1.54it/s]\n",
      "100%|██████████| 4/4 [00:02<00:00,  1.56it/s]\n",
      "  0%|          | 0/4 [00:00<?, ?it/s]"
     ]
    },
    {
     "name": "stdout",
     "output_type": "stream",
     "text": [
      "G is successfully loaded\n",
      "C is successfully loaded\n",
      "D is successfully loaded\n"
     ]
    },
    {
     "name": "stderr",
     "output_type": "stream",
     "text": [
      "100%|██████████| 4/4 [00:02<00:00,  1.53it/s]\n",
      "100%|██████████| 4/4 [00:02<00:00,  1.53it/s]\n"
     ]
    },
    {
     "ename": "IndexError",
     "evalue": "index 4 is out of bounds for axis 0 with size 4",
     "output_type": "error",
     "traceback": [
      "\u001b[1;31m---------------------------------------------------------------------------\u001b[0m",
      "\u001b[1;31mIndexError\u001b[0m                                Traceback (most recent call last)",
      "\u001b[1;32m<ipython-input-10-71aa0c52f170>\u001b[0m in \u001b[0;36m<module>\u001b[1;34m\u001b[0m\n\u001b[0;32m     40\u001b[0m     \u001b[0mtgt_tsne\u001b[0m \u001b[1;33m=\u001b[0m \u001b[0mtsne\u001b[0m\u001b[1;33m.\u001b[0m\u001b[0mfit_transform\u001b[0m\u001b[1;33m(\u001b[0m\u001b[0mtgt_embed\u001b[0m\u001b[1;33m)\u001b[0m\u001b[1;33m\u001b[0m\u001b[1;33m\u001b[0m\u001b[0m\n\u001b[0;32m     41\u001b[0m \u001b[1;33m\u001b[0m\u001b[0m\n\u001b[1;32m---> 42\u001b[1;33m     \u001b[0max\u001b[0m\u001b[1;33m[\u001b[0m\u001b[0mrow\u001b[0m\u001b[1;33m]\u001b[0m\u001b[1;33m[\u001b[0m\u001b[0mcol\u001b[0m\u001b[1;33m]\u001b[0m\u001b[1;33m.\u001b[0m\u001b[0mscatter\u001b[0m\u001b[1;33m(\u001b[0m\u001b[0msrc_tsne\u001b[0m\u001b[1;33m[\u001b[0m\u001b[1;33m:\u001b[0m\u001b[1;33m,\u001b[0m \u001b[1;36m0\u001b[0m\u001b[1;33m]\u001b[0m\u001b[1;33m,\u001b[0m \u001b[0msrc_tsne\u001b[0m\u001b[1;33m[\u001b[0m\u001b[1;33m:\u001b[0m\u001b[1;33m,\u001b[0m \u001b[1;36m1\u001b[0m\u001b[1;33m]\u001b[0m\u001b[1;33m,\u001b[0m \u001b[0mcolor\u001b[0m\u001b[1;33m=\u001b[0m\u001b[1;34m\"r\"\u001b[0m\u001b[1;33m,\u001b[0m \u001b[0mlabel\u001b[0m\u001b[1;33m=\u001b[0m\u001b[1;34mf\"Source: {src_name}\"\u001b[0m\u001b[1;33m,\u001b[0m \u001b[0malpha\u001b[0m\u001b[1;33m=\u001b[0m\u001b[1;36m.7\u001b[0m\u001b[1;33m)\u001b[0m\u001b[1;33m\u001b[0m\u001b[1;33m\u001b[0m\u001b[0m\n\u001b[0m\u001b[0;32m     43\u001b[0m     \u001b[0max\u001b[0m\u001b[1;33m[\u001b[0m\u001b[0mrow\u001b[0m\u001b[1;33m]\u001b[0m\u001b[1;33m[\u001b[0m\u001b[0mcol\u001b[0m\u001b[1;33m]\u001b[0m\u001b[1;33m.\u001b[0m\u001b[0mscatter\u001b[0m\u001b[1;33m(\u001b[0m\u001b[0mtgt_tsne\u001b[0m\u001b[1;33m[\u001b[0m\u001b[1;33m:\u001b[0m\u001b[1;33m,\u001b[0m \u001b[1;36m0\u001b[0m\u001b[1;33m]\u001b[0m\u001b[1;33m,\u001b[0m \u001b[0mtgt_tsne\u001b[0m\u001b[1;33m[\u001b[0m\u001b[1;33m:\u001b[0m\u001b[1;33m,\u001b[0m \u001b[1;36m1\u001b[0m\u001b[1;33m]\u001b[0m\u001b[1;33m,\u001b[0m \u001b[0mcolor\u001b[0m\u001b[1;33m=\u001b[0m\u001b[1;34m\"b\"\u001b[0m\u001b[1;33m,\u001b[0m \u001b[0mlabel\u001b[0m\u001b[1;33m=\u001b[0m\u001b[1;34mf\"Target: {tgt_name}\"\u001b[0m\u001b[1;33m,\u001b[0m \u001b[0malpha\u001b[0m\u001b[1;33m=\u001b[0m\u001b[1;36m.7\u001b[0m\u001b[1;33m)\u001b[0m\u001b[1;33m\u001b[0m\u001b[1;33m\u001b[0m\u001b[0m\n\u001b[0;32m     44\u001b[0m     \u001b[0max\u001b[0m\u001b[1;33m[\u001b[0m\u001b[0mrow\u001b[0m\u001b[1;33m]\u001b[0m\u001b[1;33m[\u001b[0m\u001b[0mcol\u001b[0m\u001b[1;33m]\u001b[0m\u001b[1;33m.\u001b[0m\u001b[0mlegend\u001b[0m\u001b[1;33m(\u001b[0m\u001b[1;33m)\u001b[0m\u001b[1;33m\u001b[0m\u001b[1;33m\u001b[0m\u001b[0m\n",
      "\u001b[1;31mIndexError\u001b[0m: index 4 is out of bounds for axis 0 with size 4"
     ]
    }
   ],
   "source": [
    "%matplotlib\n",
    "\n",
    "src_name = domains[args.src_data]\n",
    "tgt_name = domains[args.tgt_data]\n",
    "\n",
    "fig, ax = plt.subplots(nrows=4, ncols=5)\n",
    "\n",
    "for idx, epoch in enumerate(model_list):\n",
    "\n",
    "    row, col = idx // 5, idx % 5\n",
    "\n",
    "    title = \"Epoch\" + \" \".join(epoch.split(\"\\\\\")[-1].split(\"_\"))\n",
    "    trainer.load_model(glob(f\"{epoch}/*.pt\"))\n",
    "\n",
    "    src_embed = []\n",
    "    for data in tqdm(trainer.dataloaders[\"src_val\"]):\n",
    "        data = batch_to_device(data, trainer.device)\n",
    "        embed = trainer.models[\"G\"](data[\"src_imgs\"]).detach().cpu()\n",
    "        src_embed.append(embed)\n",
    "\n",
    "        del data\n",
    "        torch.cuda.empty_cache()\n",
    "\n",
    "    src_embed = torch.cat(src_embed, dim=0).numpy()\n",
    "\n",
    "    tgt_embed = []\n",
    "    for data in tqdm(trainer.dataloaders[\"target_val\"]):\n",
    "        data = batch_to_device(data, trainer.device)\n",
    "        embed = trainer.models[\"G\"](data[\"target_imgs\"]).detach().cpu()\n",
    "        tgt_embed.append(embed)\n",
    "\n",
    "        del data\n",
    "        torch.cuda.empty_cache()\n",
    "        \n",
    "    tgt_embed = torch.cat(tgt_embed, dim=0).numpy()\n",
    "\n",
    "    tsne = TSNE()\n",
    "\n",
    "    src_tsne = tsne.fit_transform(src_embed)\n",
    "    tgt_tsne = tsne.fit_transform(tgt_embed)\n",
    "\n",
    "    ax[row][col].scatter(src_tsne[:, 0], src_tsne[:, 1], color=\"r\", label=f\"Source: {src_name}\", alpha=.7)\n",
    "    ax[row][col].scatter(tgt_tsne[:, 0], tgt_tsne[:, 1], color=\"b\", label=f\"Target: {tgt_name}\", alpha=.7)\n",
    "    ax[row][col].legend()\n",
    "    ax[row][col].set_title(title)\n",
    "plt.show()"
   ]
  },
  {
   "cell_type": "code",
   "execution_count": 5,
   "metadata": {},
   "outputs": [
    {
     "name": "stdout",
     "output_type": "stream",
     "text": [
      "G is successfully loaded\n",
      "C is successfully loaded\n",
      "D is successfully loaded\n"
     ]
    }
   ],
   "source": [
    "trainer.load_model(glob(f\"{model_list[0]}/*.pt\"))"
   ]
  },
  {
   "cell_type": "code",
   "execution_count": 6,
   "metadata": {},
   "outputs": [
    {
     "name": "stderr",
     "output_type": "stream",
     "text": [
      "100%|██████████| 4/4 [00:05<00:00,  1.28s/it]\n",
      "100%|██████████| 4/4 [00:02<00:00,  1.42it/s]\n"
     ]
    }
   ],
   "source": [
    "src_embed = []\n",
    "for data in tqdm(trainer.dataloaders[\"src_val\"]):\n",
    "    data = batch_to_device(data, trainer.device)\n",
    "    embed = trainer.models[\"G\"](data[\"src_imgs\"]).detach().cpu()\n",
    "    src_embed.append(embed)\n",
    "\n",
    "    del data\n",
    "    torch.cuda.empty_cache()\n",
    "\n",
    "src_embed = torch.cat(src_embed, dim=0).numpy()\n",
    "\n",
    "tgt_embed = []\n",
    "for data in tqdm(trainer.dataloaders[\"target_val\"]):\n",
    "    data = batch_to_device(data, trainer.device)\n",
    "    embed = trainer.models[\"G\"](data[\"target_imgs\"]).detach().cpu()\n",
    "    tgt_embed.append(embed)\n",
    "\n",
    "    del data\n",
    "    torch.cuda.empty_cache()\n",
    "    \n",
    "tgt_embed = torch.cat(tgt_embed, dim=0).numpy()"
   ]
  },
  {
   "cell_type": "code",
   "execution_count": 9,
   "metadata": {},
   "outputs": [],
   "source": [
    "tsne = TSNE()\n",
    "\n",
    "src_tsne = tsne.fit_transform(src_embed)\n",
    "tgt_tsne = tsne.fit_transform(tgt_embed)"
   ]
  },
  {
   "cell_type": "code",
   "execution_count": 15,
   "metadata": {},
   "outputs": [
    {
     "data": {
      "text/plain": [
       "(113,)"
      ]
     },
     "execution_count": 15,
     "metadata": {},
     "output_type": "execute_result"
    }
   ],
   "source": [
    "src_tsne[:, 0].shape"
   ]
  },
  {
   "cell_type": "code",
   "execution_count": 17,
   "metadata": {},
   "outputs": [
    {
     "name": "stdout",
     "output_type": "stream",
     "text": [
      "Requirement already satisfied: matplotlib in c:\\users\\pha\\anaconda3\\envs\\xai501\\lib\\site-packages (3.3.4)\n",
      "Requirement already satisfied: python-dateutil>=2.1 in c:\\users\\pha\\anaconda3\\envs\\xai501\\lib\\site-packages (from matplotlib) (2.8.1)\n",
      "Requirement already satisfied: cycler>=0.10 in c:\\users\\pha\\anaconda3\\envs\\xai501\\lib\\site-packages (from matplotlib) (0.10.0)\n",
      "Requirement already satisfied: pyparsing!=2.0.4,!=2.1.2,!=2.1.6,>=2.0.3 in c:\\users\\pha\\anaconda3\\envs\\xai501\\lib\\site-packages (from matplotlib) (2.4.7)\n",
      "Requirement already satisfied: kiwisolver>=1.0.1 in c:\\users\\pha\\anaconda3\\envs\\xai501\\lib\\site-packages (from matplotlib) (1.3.1)\n",
      "Requirement already satisfied: pillow>=6.2.0 in c:\\users\\pha\\anaconda3\\envs\\xai501\\lib\\site-packages (from matplotlib) (8.2.0)\n",
      "Requirement already satisfied: numpy>=1.15 in c:\\users\\pha\\anaconda3\\envs\\xai501\\lib\\site-packages (from matplotlib) (1.20.2)\n",
      "Requirement already satisfied: six in c:\\users\\pha\\anaconda3\\envs\\xai501\\lib\\site-packages (from cycler>=0.10->matplotlib) (1.15.0)\n"
     ]
    }
   ],
   "source": [
    "!pip install matplotlib"
   ]
  },
  {
   "cell_type": "code",
   "execution_count": 25,
   "metadata": {},
   "outputs": [
    {
     "name": "stdout",
     "output_type": "stream",
     "text": [
      "Using matplotlib backend: Qt5Agg\n"
     ]
    }
   ],
   "source": [
    "%matplotlib\n",
    "import matplotlib.pyplot as plt\n",
    "import seaborn as sns\n",
    "sns.set_theme()\n",
    "\n",
    "src_name = domains[args.src_data]\n",
    "tgt_name = domains[args.tgt_data]\n",
    "\n",
    "plt.scatter(src_tsne[:, 0], src_tsne[:, 1], color=\"r\", label=f\"Source: {src_name}\", alpha=.7)\n",
    "plt.scatter(tgt_tsne[:, 0], tgt_tsne[:, 1], color=\"b\", label=f\"Target: {tgt_name}\", alpha=.7)\n",
    "plt.legend()\n",
    "plt.show()"
   ]
  },
  {
   "cell_type": "code",
   "execution_count": null,
   "metadata": {},
   "outputs": [],
   "source": []
  }
 ],
 "metadata": {
  "interpreter": {
   "hash": "839efb5f58ddc648d447649035bde14787ba9332bae58e3f09da86e2a85c0f21"
  },
  "kernelspec": {
   "display_name": "Python 3.6.2 64-bit ('dann': conda)",
   "language": "python",
   "name": "python3"
  },
  "language_info": {
   "codemirror_mode": {
    "name": "ipython",
    "version": 3
   },
   "file_extension": ".py",
   "mimetype": "text/x-python",
   "name": "python",
   "nbconvert_exporter": "python",
   "pygments_lexer": "ipython3",
   "version": "3.7.10"
  },
  "orig_nbformat": 4
 },
 "nbformat": 4,
 "nbformat_minor": 2
}
